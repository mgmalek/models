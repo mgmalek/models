{
 "cells": [
  {
   "cell_type": "markdown",
   "id": "peripheral-lottery",
   "metadata": {},
   "source": [
    "# Soft Actor-Critic (SAC)"
   ]
  },
  {
   "cell_type": "code",
   "execution_count": null,
   "id": "hidden-charm",
   "metadata": {},
   "outputs": [],
   "source": [
    "import torch\n",
    "import gym\n",
    "from gym.envs.classic_control import PendulumEnv, CartPoleEnv\n",
    "from gym.envs.mujoco import HalfCheetahEnv, HopperEnv, Walker2dEnv, HumanoidEnv\n",
    "from matplotlib import pyplot as plt\n",
    "\n",
    "from src import SACConfig, RandomAgent, SACAgent, EnvWrapper, ReplayBuffer, SAC"
   ]
  },
  {
   "cell_type": "code",
   "execution_count": null,
   "id": "cleared-lighting",
   "metadata": {},
   "outputs": [],
   "source": [
    "config = SACConfig(\n",
    "    # Environment Config\n",
    "    env=PendulumEnv,\n",
    "    observation_dim=3,\n",
    "    action_dim=1,\n",
    "    action_min=-2.0,\n",
    "    action_max=2.0,\n",
    "    temperature=1.0,\n",
    "    max_episode_length=1_000,\n",
    "    discrete_actions=False,\n",
    "    \n",
    "    # Neural Network Config\n",
    "    adjust_temperature=True,\n",
    ")"
   ]
  },
  {
   "cell_type": "code",
   "execution_count": null,
   "id": "vanilla-romania",
   "metadata": {},
   "outputs": [],
   "source": [
    "# Initialise Networks, Agents, Dataset and Environment\n",
    "sac = SAC(config).cuda()\n",
    "random_agent = RandomAgent(config)\n",
    "agent = SACAgent(sac.policy_network, config)\n",
    "dataset = ReplayBuffer(config)\n",
    "env_wrapper = EnvWrapper(config, random_agent)"
   ]
  },
  {
   "cell_type": "code",
   "execution_count": null,
   "id": "forbidden-junction",
   "metadata": {},
   "outputs": [],
   "source": [
    "# Collect Initial Data\n",
    "dataset.extend([env_wrapper.step() for _ in range(config.random_steps)])\n",
    "\n",
    "env_wrapper.agent = agent\n",
    "dataset.extend([env_wrapper.step() for _ in range(config.initial_policy_steps)])"
   ]
  },
  {
   "cell_type": "code",
   "execution_count": null,
   "id": "medieval-privilege",
   "metadata": {},
   "outputs": [],
   "source": [
    "# Visualise One Episode (before training)\n",
    "env_wrapper.test(render=True)"
   ]
  },
  {
   "cell_type": "code",
   "execution_count": null,
   "id": "pressed-class",
   "metadata": {},
   "outputs": [],
   "source": [
    "# Train Model\n",
    "test_returns = []\n",
    "episode_idx = len(env_wrapper.ep_returns)\n",
    "while env_wrapper.total_steps < config.total_train_steps:\n",
    "    for _ in range(config.env_steps):\n",
    "        dataset.extend([env_wrapper.step()])\n",
    "\n",
    "    for batch_idx in range(config.training_steps):\n",
    "        states, actions, rewards, next_states, is_done = dataset.sample()\n",
    "        sac.train(states, actions, rewards, next_states, is_done)\n",
    "    \n",
    "    if (env_wrapper.total_steps % 1000) < config.env_steps:\n",
    "        test_return = env_wrapper.test(render=False)\n",
    "        test_returns.append(test_return)\n",
    "        print(\n",
    "            f\"Step: {env_wrapper.total_steps}\\t\"\n",
    "            f\"Episode: {env_wrapper.num_episodes}\\t\"\n",
    "            f\"Test Return: {test_return:6.2f}\\t\"\n",
    "            f\"Temperature: {sac.temperature.log_temperature.exp().item():8.4f}\"\n",
    "        )\n",
    "        \n",
    "        torch.save(sac, f\"{config.env.__name__.replace('Env', '')}.pt\")"
   ]
  },
  {
   "cell_type": "code",
   "execution_count": null,
   "id": "planned-ocean",
   "metadata": {},
   "outputs": [],
   "source": [
    "# Visualise One Episode (after training)\n",
    "env_wrapper.test(render=True)"
   ]
  }
 ],
 "metadata": {
  "kernelspec": {
   "display_name": "mlenv",
   "language": "python",
   "name": "mlenv"
  },
  "language_info": {
   "codemirror_mode": {
    "name": "ipython",
    "version": 3
   },
   "file_extension": ".py",
   "mimetype": "text/x-python",
   "name": "python",
   "nbconvert_exporter": "python",
   "pygments_lexer": "ipython3",
   "version": "3.8.6"
  }
 },
 "nbformat": 4,
 "nbformat_minor": 5
}
